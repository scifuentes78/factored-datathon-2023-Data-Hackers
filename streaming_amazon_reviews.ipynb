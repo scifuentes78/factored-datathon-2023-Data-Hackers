{
 "cells": [
  {
   "cell_type": "code",
   "execution_count": 4,
   "id": "f94940d4",
   "metadata": {},
   "outputs": [
    {
     "name": "stdout",
     "output_type": "stream",
     "text": [
      "Collecting pyspark\n",
      "  Using cached pyspark-3.4.1.tar.gz (310.8 MB)\n",
      "  Preparing metadata (setup.py): started\n",
      "  Preparing metadata (setup.py): finished with status 'done'\n",
      "Collecting py4j==0.10.9.7\n",
      "  Using cached py4j-0.10.9.7-py2.py3-none-any.whl (200 kB)\n",
      "Building wheels for collected packages: pyspark\n",
      "  Building wheel for pyspark (setup.py): started\n",
      "  Building wheel for pyspark (setup.py): still running...\n",
      "  Building wheel for pyspark (setup.py): still running...\n",
      "  Building wheel for pyspark (setup.py): finished with status 'done'\n",
      "  Created wheel for pyspark: filename=pyspark-3.4.1-py2.py3-none-any.whl size=311285432 sha256=bcdb5e248dc185d2186a6c99918934d9913b4f0e7b79fefa29253e5f83a9cea7\n",
      "  Stored in directory: c:\\users\\ssawczen\\appdata\\local\\pip\\cache\\wheels\\53\\fe\\23\\517784b9d9dadfb82c5676e76483422096aa5dc20d4d602213\n",
      "Successfully built pyspark\n",
      "Installing collected packages: py4j, pyspark\n",
      "Successfully installed py4j-0.10.9.7 pyspark-3.4.1\n"
     ]
    }
   ],
   "source": [
    "!pip install pyspark"
   ]
  },
  {
   "cell_type": "code",
   "execution_count": 6,
   "id": "3797ed4e",
   "metadata": {},
   "outputs": [
    {
     "name": "stdout",
     "output_type": "stream",
     "text": [
      "Collecting azure-eventhub\n",
      "  Using cached azure_eventhub-5.11.3-py3-none-any.whl (308 kB)\n",
      "Collecting azure-core<2.0.0,>=1.14.0\n",
      "  Using cached azure_core-1.28.0-py3-none-any.whl (185 kB)\n",
      "Requirement already satisfied: typing-extensions>=4.0.1 in c:\\users\\ssawczen\\appdata\\local\\anaconda3\\lib\\site-packages (from azure-eventhub) (4.4.0)\n",
      "Requirement already satisfied: requests>=2.18.4 in c:\\users\\ssawczen\\appdata\\local\\anaconda3\\lib\\site-packages (from azure-core<2.0.0,>=1.14.0->azure-eventhub) (2.28.1)\n",
      "Requirement already satisfied: six>=1.11.0 in c:\\users\\ssawczen\\appdata\\local\\anaconda3\\lib\\site-packages (from azure-core<2.0.0,>=1.14.0->azure-eventhub) (1.16.0)\n",
      "Requirement already satisfied: idna<4,>=2.5 in c:\\users\\ssawczen\\appdata\\local\\anaconda3\\lib\\site-packages (from requests>=2.18.4->azure-core<2.0.0,>=1.14.0->azure-eventhub) (3.4)\n",
      "Requirement already satisfied: certifi>=2017.4.17 in c:\\users\\ssawczen\\appdata\\local\\anaconda3\\lib\\site-packages (from requests>=2.18.4->azure-core<2.0.0,>=1.14.0->azure-eventhub) (2023.7.22)\n",
      "Requirement already satisfied: charset-normalizer<3,>=2 in c:\\users\\ssawczen\\appdata\\local\\anaconda3\\lib\\site-packages (from requests>=2.18.4->azure-core<2.0.0,>=1.14.0->azure-eventhub) (2.0.4)\n",
      "Requirement already satisfied: urllib3<1.27,>=1.21.1 in c:\\users\\ssawczen\\appdata\\local\\anaconda3\\lib\\site-packages (from requests>=2.18.4->azure-core<2.0.0,>=1.14.0->azure-eventhub) (1.26.14)\n",
      "Installing collected packages: azure-core, azure-eventhub\n",
      "Successfully installed azure-core-1.28.0 azure-eventhub-5.11.3\n"
     ]
    }
   ],
   "source": [
    "!pip install azure-eventhub"
   ]
  },
  {
   "cell_type": "code",
   "execution_count": 7,
   "id": "0bc49e9d",
   "metadata": {},
   "outputs": [],
   "source": [
    "from azure.eventhub import EventHubConsumerClient\n",
    "from pyspark.sql import SparkSession # Initializing SparkSession"
   ]
  },
  {
   "cell_type": "code",
   "execution_count": null,
   "id": "6ab4f16f",
   "metadata": {},
   "outputs": [],
   "source": [
    "# Define Event Hub Connection Parameters\n",
    "eventhub_namespace = \"factored-datathon\"\n",
    "eventhub_name = \"factored_datathon_amazon_review_1\"\n",
    "listen_policy_key = \"sJJnyi8GGTBAa55jY89kacoT6hXAzWx2B+AEhCPEKYE=\"\n",
    "listen_policy_connection_string = \"Endpoint=sb://factored-datathon.servicebus.windows.net/;SharedAccessKeyName=datathon_listener;SharedAccessKey=sJJnyi8GGTBAa55jY89kacoT6hXAzWx2B+AEhCPEKYE=;EntityPath=factored_datathon_amazon_review\"\n",
    "\n",
    "# Define the Event Hub Consumer Function and processing logic for each incoming event\n",
    "def on_event(partition_context, event):\n",
    "    print(\"Received event from partition: {}\".format(partition_context.partition_id))\n",
    "    print(\"Data: {}\".format(event.body_as_str(encoding='UTF-8')))\n",
    "    print(\"Properties: {}\".format(event.properties))\n",
    "\n",
    "# Set up the Event Hub Consumer Client\n",
    "connection_str = listen_policy_connection_string\n",
    "consumer_client = EventHubConsumerClient.from_connection_string(connection_str, consumer_group=\"$Default\", eventhub_name=eventhub_name)\n",
    "\n",
    "# Start Receiving Events\n",
    "try:\n",
    "    with consumer_client:\n",
    "        consumer_client.receive(on_event=on_event, starting_position=\"-1\")\n",
    "except KeyboardInterrupt:\n",
    "    print(\"Receiving has stopped.\")\n"
   ]
  },
  {
   "cell_type": "code",
   "execution_count": null,
   "id": "0f58d7c7",
   "metadata": {},
   "outputs": [],
   "source": []
  }
 ],
 "metadata": {
  "kernelspec": {
   "display_name": "Python 3 (ipykernel)",
   "language": "python",
   "name": "python3"
  },
  "language_info": {
   "codemirror_mode": {
    "name": "ipython",
    "version": 3
   },
   "file_extension": ".py",
   "mimetype": "text/x-python",
   "name": "python",
   "nbconvert_exporter": "python",
   "pygments_lexer": "ipython3",
   "version": "3.10.9"
  }
 },
 "nbformat": 4,
 "nbformat_minor": 5
}
