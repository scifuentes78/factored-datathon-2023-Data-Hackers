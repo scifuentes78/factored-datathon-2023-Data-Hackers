{
  "nbformat": 4,
  "nbformat_minor": 0,
  "metadata": {
    "colab": {
      "provenance": []
    },
    "kernelspec": {
      "name": "python3",
      "display_name": "Python 3"
    }
  },
  "cells": [
    {
      "cell_type": "code",
      "metadata": {
        "id": "f5NDXrN2CtH7"
      },
      "source": [
        "import os\n",
        "import json\n",
        "import gzip\n",
        "import pandas as pd\n",
        "from urllib.request import urlopen"
      ],
      "execution_count": 1,
      "outputs": []
    },
    {
      "cell_type": "code",
      "metadata": {
        "id": "feWoOrmt4Tja",
        "colab": {
          "base_uri": "https://localhost:8080/",
          "height": 204
        },
        "outputId": "963508d3-a264-4323-c160-dd046b3a1703"
      },
      "source": [
        "!wget http://deepyeti.ucsd.edu/jianmo/amazon/sample/meta_Computers.json.gz"
      ],
      "execution_count": null,
      "outputs": [
        {
          "output_type": "stream",
          "text": [
            "--2020-01-04 23:26:54--  http://deepyeti.ucsd.edu/jianmo/amazon/sample/meta_Computers.json.gz\n",
            "Resolving deepyeti.ucsd.edu (deepyeti.ucsd.edu)... 169.228.63.50\n",
            "Connecting to deepyeti.ucsd.edu (deepyeti.ucsd.edu)|169.228.63.50|:80... connected.\n",
            "HTTP request sent, awaiting response... 200 OK\n",
            "Length: 7010521 (6.7M) [application/octet-stream]\n",
            "Saving to: ‘meta_Computers.json.gz’\n",
            "\n",
            "meta_Computers.json 100%[===================>]   6.69M  6.02MB/s    in 1.1s    \n",
            "\n",
            "2020-01-04 23:26:55 (6.02 MB/s) - ‘meta_Computers.json.gz’ saved [7010521/7010521]\n",
            "\n"
          ],
          "name": "stdout"
        }
      ]
    },
    {
      "cell_type": "code",
      "metadata": {
        "id": "7igYuRaV4bF7",
        "colab": {
          "base_uri": "https://localhost:8080/"
        },
        "outputId": "df85b215-59c7-47a1-ba1e-1f1dd56ec1ef"
      },
      "source": [
        "### load the meta data\n",
        "\n",
        "data = []\n",
        "with gzip.open('1.json.gz') as f:\n",
        "    for l in f:\n",
        "        data.append(json.loads(l.strip()))\n",
        "\n",
        "# total length of list, this number equals total number of products\n",
        "print(len(data))\n",
        "\n",
        "# first row of the list\n",
        "print(data[0])"
      ],
      "execution_count": 2,
      "outputs": [
        {
          "output_type": "stream",
          "name": "stdout",
          "text": [
            "10000\n",
            "{'also_buy': [], 'also_view': [], 'asin': '6305121869', 'brand': 'Ninasill_Blouse', 'category': ['Clothing, Shoes & Jewelry', 'Women', 'Clothing', 'Tops, Tees & Blouses', 'Blouses & Button-Down Shirts', 'Import', 'Versatile Occasions - Great for Daily,Casual,I am sure you will like it!', 'Black Friday Cyber Monday Christmas Loose Blouse V-Neck Blouse Solid Color Blouse Sling Blouse Fashion Blouse Cool Blouse Vintage Blouse Popular Blouse Fun Blouse Sexy Blouse Lace Vest Blouse Wild Blouse Sleeveless Blouse Lace Blouse closure', 'Printing Vest Rose Blouse Velvet Shirt Couple Blouse Elegant Blouse Long Sleeve Blouse Lace Vest Printed Blouse High Low Hem Blouse Top Short Sleeve Blouses Hollow Clothing Casual Shirts Out Shoulder Blouse Three Quarter Sleeve Shirts Chiffon Blouse Floral Printed Button Shirt Stailored Blouse Button Blouse Crew Neck Blouse Zip Blouse Cheap Blouse Expensive Blouse Discount Blouse Box Pattern Blouse Twill Fabric Blouse Straight Blouse Rolling Blouse Crimping Blouse Leaf Blouse Sling Blouse', 'Shawl Blouse Transparent Blouse Crepe Blouse Rayon Blouse Stretch Blouse Embroidered Blouse Tie Up Blouse Bow Blouse Thick Blouse Exquisite Blouse Off Shoulder Blouse Couple Blouse Stitching Harness Rose Blouse Letter Blouse Slim Blouse Halter Blouse Oblique Blouse Feather Blouse Pullover Tops Easter Mothers Day Flag Day Independence Day Holiday Hot Pink Outfits For Women Chiffon Blouse Velvet Cardigan Blouses For Women Fashion 2018 Hoodie', \"poker t shirts fishing t shirts tee shirts for guys mens blue t shirt as t shirts womens t shirts casual shirts for men tee shirt maker nice shirts for guys military t shirts witty t shirts biker t shirts olive green shirt mens beer shirts t shirt transfers polyester t shirts army t shirt custom made tee shirts men's a shirts offensive t shirts bob marley t shirts hanes t shirts kids t shirts nice mens t shirts make your own shirt t shirt making website t shirt logo\", 'ladies tops tops for women off the shoulder tops long tops tunic tops going out tops cute tops trendy tops lace top long tops for women party tops cotton tops blouses for women womens shirts cute tops for women summer tops dressy tops halter top tunic tops for women shoulderless tops women tops online black tops for women white top ladies long tops black top halter neck tops strapless top tops online long shirts for women summer tops for women red top lace tops for women long tops', \"online designer tops sleeveless tops long sleeve tops one shoulder tops ladies tops online ladies blouse basic tops white shirt womens chiffon tops pink top ladies summer tops trendy tops for women burgundy top women's shirts black and white top\"], 'date': '<div class=\"a-fixed-left-grid a-spacing-none\"><div class=\"a-fixed-left-grid-inner\" style=\"padding-left:280px\"><div class=\"a-fixed-left-grid-col a-col-left\" style=\"width:280px;margin-left:-280px;float:left;\"><span class=\"a-declarative\" data-action=\"reviews:filter-action:push-state\" data-reviews:filter-action:push-state=\"{&quot;scrollToSelector&quot;:&quot;#reviews-filter-info&quot;,&quot;allowLinkDefault&quot;:&quot;1&quot;}\"><table id=\"histogramTable\" class=\"a-normal a-align-middle a-spacing-base\" role=\"presentation\"><tr class=\"a-histogram-row\"><td class=\"aok-nowrap\"><span aria-hidden=\"true\" class=\"a-size-base\">5 star</span><span class=\"a-offscreen\">5 star (0%)</span><span class=\"a-letter-space\"></span>', 'description': ['(=^ ^=) 1.It is made of high quality materials,durable enought for your daily wearing<br>(=^ ^=) 2.Stylish and fashion design make you more attractive<br>(=^ ^=) 3.Perfect Match with your favorite shorts,leggings, black slacks, denim jeans, etc<br>(=^ ^=) 4.Great for Daily,Casual,I am sure you will like it! <br><br>(=^ ^=) If you would like to know more products of our store, please pay close attention to <b>Ninasill</b> <br><br>Loose Blouse V-Neck Blouse Solid Color Blouse Sling Blouse Fashion Blouse Cool Blouse Vintage Blouse Popular Blouse Fun Blouse Sexy Blouse Lace Vest Blouse Wild <br>Blouse Sleeveless Blouse Lace Blouse Lace Stitching Blouse Sweaters T-Shirts Men Blouse Women Blouse Girls Blouse Boys Blouse Kid Blouse Adult Blouse Children Blouse Printing Vest Rose Blouse Velvet Shirt Couple Blouse Elegant Blouse Long <br>Sleeve Blouse Lace Vest Printed Blouse High Low Hem Blouse Top Short Sleeve Blouses Hollow Clothing V-Collar Vest Casual Shirts Out Shoulder Blouse Three Quarter Sleeve Shirts Chiffon Blouse Floral Printed Button Shirts'], 'details': {}, 'feature': ['Import', 'Versatile Occasions - Great for Daily,Casual,I am sure you will like it!', 'Black Friday Cyber Monday Christmas Loose Blouse V-Neck Blouse Solid Color Blouse Sling Blouse Fashion Blouse Cool Blouse Vintage Blouse Popular Blouse Fun Blouse Sexy Blouse Lace Vest Blouse Wild Blouse Sleeveless Blouse Lace Blouse closure', 'Printing Vest Rose Blouse Velvet Shirt Couple Blouse Elegant Blouse Long Sleeve Blouse Lace Vest Printed Blouse High Low Hem Blouse Top Short Sleeve Blouses Hollow Clothing Casual Shirts Out Shoulder Blouse Three Quarter Sleeve Shirts Chiffon Blouse Floral Printed Button Shirt Stailored Blouse Button Blouse Crew Neck Blouse Zip Blouse Cheap Blouse Expensive Blouse Discount Blouse Box Pattern Blouse Twill Fabric Blouse Straight Blouse Rolling Blouse Crimping Blouse Leaf Blouse Sling Blouse', 'Shawl Blouse Transparent Blouse Crepe Blouse Rayon Blouse Stretch Blouse Embroidered Blouse Tie Up Blouse Bow Blouse Thick Blouse Exquisite Blouse Off Shoulder Blouse Couple Blouse Stitching Harness Rose Blouse Letter Blouse Slim Blouse Halter Blouse Oblique Blouse Feather Blouse Pullover Tops Easter Mothers Day Flag Day Independence Day Holiday Hot Pink Outfits For Women Chiffon Blouse Velvet Cardigan Blouses For Women Fashion 2018 Hoodie', \"poker t shirts fishing t shirts tee shirts for guys mens blue t shirt as t shirts womens t shirts casual shirts for men tee shirt maker nice shirts for guys military t shirts witty t shirts biker t shirts olive green shirt mens beer shirts t shirt transfers polyester t shirts army t shirt custom made tee shirts men's a shirts offensive t shirts bob marley t shirts hanes t shirts kids t shirts nice mens t shirts make your own shirt t shirt making website t shirt logo\", 'ladies tops tops for women off the shoulder tops long tops tunic tops going out tops cute tops trendy tops lace top long tops for women party tops cotton tops blouses for women womens shirts cute tops for women summer tops dressy tops halter top tunic tops for women shoulderless tops women tops online black tops for women white top ladies long tops black top halter neck tops strapless top tops online long shirts for women summer tops for women red top lace tops for women long tops', \"online designer tops sleeveless tops long sleeve tops one shoulder tops ladies tops online ladies blouse basic tops white shirt womens chiffon tops pink top ladies summer tops trendy tops for women burgundy top women's shirts black and white top\", '<span class=\"a-text-bold\">Shipping Weight:\\n                    </span>\\n                    <span>12.8 ounces (<a href=\\'https://www.amazon.com/gp/help/seller/shipping.html/ref=dp_pd_shipping?_encoding=UTF8&amp;seller=&amp;asin=B07KS5RY2B\\'>View shipping rates and policies</a>)</span>', '<span class=\"a-text-bold\">ASIN:\\n                    </span>\\n                    <span>B07KS5RY2B</span>', '', '<span class=\"a-text-bold\">Item model number:\\n                    </span>\\n                    <span>ZC-1004</span>', '<span class=\"a-text-bold\">Date first listed on Amazon:\\n                    </span>\\n                    <span>November 22, 2018</span>', '<span class=\"a-text-bold\">\\n                    Average Customer Review:\\n                </span>\\n                \\n\\n\\n\\n\\n<style type=\"text/css\">\\n    /* \\n    * Fix for UDP-1061. Average customer reviews has a small extra line on hover \\n    * https://omni-grok.amazon.com/xref/src/appgroup/websiteTemplates/retail/SoftlinesDetailPageAssets/udp-intl-lock/src/legacy.css?indexName=WebsiteTemplates#40\\n    */\\n    .noUnderline a:hover { \\n        text-decoration: none; \\n    }\\n</style>\\n\\n\\n\\n    \\n    \\n    \\n    \\n        \\n\\n        \\n\\n        \\n        \\n        \\n        \\n\\t\\t\\n\\t\\t\\n\\t\\t\\n\\t\\t\\n\\t\\t        \\n\\t\\t\\n\\t\\t\\n\\t\\t\\n\\t\\t\\n\\t\\t\\n\\t\\t\\n\\t\\t\\n\\t\\t        \\n        \\n\\n        <div id=\"detailBullets_averageCustomerReviews\" class=\"a-spacing-none\" data-asin=\"B07KS5RY2B\" data-ref=\"dpx_acr_pop_\" >\\n            \\n            \\n            \\n                \\n                    \\n\\n\\n\\n\\n\\n\\n\\n    \\n    \\n        \\n            \\n                <a id=\"acrCustomerWriteReviewLink\" class=\"a-link-normal reviewCountSolicit\" href=\"/review/create-review/ref=dpx_acr_wr_link?asin=B07KS5RY2B\">\\n                    <span id=\"acrCustomerWriteReviewText\" class=\"a-size-base\">Be the first to review this item</span>\\n                </a>\\n            \\n        \\n    \\n\\n                \\n                \\n            \\n        </div>'], 'fit': '', 'image': ['https://images-na.ssl-images-amazon.com/images/I/41FcdYMol2L._SX38_SY50_CR,0,0,38,50_.jpg', 'https://images-na.ssl-images-amazon.com/images/I/51ul8a%2B-IjL._SX38_SY50_CR,0,0,38,50_.jpg', 'https://images-na.ssl-images-amazon.com/images/I/51zLLlGLEHL._SX38_SY50_CR,0,0,38,50_.jpg', 'https://images-na.ssl-images-amazon.com/images/I/515CIhAjPIL._SX38_SY50_CR,0,0,38,50_.jpg'], 'main_cat': 'Movies & TV', 'price': '$9.99 - $12.50', 'rank': '[]', 'similar_item': '', 'tech1': '', 'tech2': '', 'title': 'Women Blouse, Ninasill Hooded Sweatshirt Coat Winter Warm Wool Zipper Pockets Cotton Coat Outwear'}\n"
          ]
        }
      ]
    },
    {
      "cell_type": "code",
      "metadata": {
        "id": "knpHP22w4scK",
        "colab": {
          "base_uri": "https://localhost:8080/"
        },
        "outputId": "a181d0f1-f394-4b33-f359-67d71cb92886"
      },
      "source": [
        "# convert list into pandas dataframe\n",
        "\n",
        "df = pd.DataFrame.from_dict(data)\n",
        "\n",
        "print(len(df))"
      ],
      "execution_count": 3,
      "outputs": [
        {
          "output_type": "stream",
          "name": "stdout",
          "text": [
            "10000\n"
          ]
        }
      ]
    },
    {
      "cell_type": "code",
      "metadata": {
        "id": "LgWrDtZ94w89",
        "colab": {
          "base_uri": "https://localhost:8080/"
        },
        "outputId": "bebae44e-954d-415f-c7b8-40f7a55768fc"
      },
      "source": [
        "### remove rows with unformatted title (i.e. some 'title' may still contain html style content)\n",
        "\n",
        "df3 = df.fillna('')\n",
        "df4 = df3[df3.title.str.contains('getTime')] # unformatted rows\n",
        "df5 = df3[~df3.title.str.contains('getTime')] # filter those unformatted rows\n",
        "print(len(df4))\n",
        "print(len(df5))"
      ],
      "execution_count": 4,
      "outputs": [
        {
          "output_type": "stream",
          "name": "stdout",
          "text": [
            "0\n",
            "10000\n"
          ]
        }
      ]
    },
    {
      "cell_type": "code",
      "metadata": {
        "id": "7Vq32rQd5D9W",
        "colab": {
          "base_uri": "https://localhost:8080/",
          "height": 306
        },
        "outputId": "2965e85b-d993-4520-a992-d42e0cec3f01"
      },
      "source": [
        "# how those unformatted rows look like\n",
        "df4.iloc[0]"
      ],
      "execution_count": null,
      "outputs": [
        {
          "output_type": "execute_result",
          "data": {
            "text/plain": [
              "description                                                      \n",
              "title           var aPageStart = (new Date()).getTime();\\nvar ...\n",
              "image                                                            \n",
              "brand                                              DS Miller Inc.\n",
              "rank            [>#1,826,312 in Electronics (See Top 100 in El...\n",
              "main_cat                                                Computers\n",
              "date                                                March 1, 2010\n",
              "asin                                                   B0016C5EXY\n",
              "feature                                                          \n",
              "tech1                                                            \n",
              "also_buy                                                         \n",
              "price                                                            \n",
              "also_view                                                        \n",
              "tech2                                                            \n",
              "details                                                          \n",
              "similar_item                                                     \n",
              "Name: 1186, dtype: object"
            ]
          },
          "metadata": {
            "tags": []
          },
          "execution_count": 7
        }
      ]
    },
    {
      "cell_type": "code",
      "metadata": {
        "id": "6LBLzsFU5LJ_"
      },
      "source": [
        "def parse(path):\n",
        "  g = gzip.open(path, 'r')\n",
        "  for l in g:\n",
        "    yield json.loads(l)"
      ],
      "execution_count": 5,
      "outputs": []
    },
    {
      "cell_type": "code",
      "metadata": {
        "id": "WqZcdGp-5cui"
      },
      "source": [
        "import pandas as pd\n",
        "import gzip\n",
        "\n",
        "def parse(path):\n",
        "  g = gzip.open(path, 'rb')\n",
        "  for l in g:\n",
        "    yield json.loads(l)\n",
        "\n",
        "def getDF(path):\n",
        "  i = 0\n",
        "  df = {}\n",
        "  for d in parse(path):\n",
        "    df[i] = d\n",
        "    i += 1\n",
        "  return pd.DataFrame.from_dict(df, orient='index')\n",
        "\n",
        "df = getDF('1.json.gz')"
      ],
      "execution_count": 6,
      "outputs": []
    },
    {
      "cell_type": "code",
      "source": [
        "df.head()"
      ],
      "metadata": {
        "id": "IDXwg7FODyy4",
        "outputId": "5eeb693e-5477-40db-abc2-29f1508d96a4",
        "colab": {
          "base_uri": "https://localhost:8080/",
          "height": 756
        }
      },
      "execution_count": 7,
      "outputs": [
        {
          "output_type": "execute_result",
          "data": {
            "text/plain": [
              "                                            also_buy  \\\n",
              "0                                                 []   \n",
              "1                                                 []   \n",
              "2                                                 []   \n",
              "3  [B077GQQKRV, B07CBJQTF6, B07H2Z6S9J, B06Y26PZ5...   \n",
              "4                                                 []   \n",
              "\n",
              "                                           also_view        asin  \\\n",
              "0                                                 []  6305121869   \n",
              "1                                                 []  6318708057   \n",
              "2  [B07CRJ95M7, B008AHISU4, B07B8F98W2, B07DD98Q7...  6342506256   \n",
              "3  [B07H2Z6S9J, B077GQQKRV, B072XTTTK9, B002DMJOC...  6342509379   \n",
              "4                                       [B00V6F372G]  6342522081   \n",
              "\n",
              "             brand                                           category  \\\n",
              "0  Ninasill_Blouse  [Clothing, Shoes & Jewelry, Women, Clothing, T...   \n",
              "1    Coolred-Women  [Clothing, Shoes & Jewelry, Traditional & Cult...   \n",
              "2             Gaok  [Clothing, Shoes & Jewelry, Men, Clothing, Sho...   \n",
              "3            QIBOE  [Clothing, Shoes & Jewelry, Men, Clothing, Jea...   \n",
              "4              OLO  [Clothing, Shoes & Jewelry, Women, Accessories...   \n",
              "\n",
              "                                                date  \\\n",
              "0  <div class=\"a-fixed-left-grid a-spacing-none\">...   \n",
              "1  <div class=\"a-fixed-left-grid a-spacing-none\">...   \n",
              "2  <div class=\"a-fixed-left-grid a-spacing-none\">...   \n",
              "3  <div class=\"a-fixed-left-grid a-spacing-none\">...   \n",
              "4                                                      \n",
              "\n",
              "                                         description  \\\n",
              "0  [(=^ ^=) 1.It is made of high quality material...   \n",
              "1  [<b><br>Hi friend, welcome to our store. Befor...   \n",
              "2  [Gaok men's pants are all made from cotton mat...   \n",
              "3  [<b>pant size(Unit:inch)</b><br> W30(tag30) Wa...   \n",
              "4  [All of our sunglasses offer protection agains...   \n",
              "\n",
              "                    details  \\\n",
              "0                        {}   \n",
              "1                        {}   \n",
              "2                        {}   \n",
              "3                        {}   \n",
              "4  {'ASIN: ': '6342522081'}   \n",
              "\n",
              "                                             feature  \\\n",
              "0  [Import, Versatile Occasions - Great for Daily...   \n",
              "1  [100% Spandex, Order Larger If You are Between...   \n",
              "2  [Cotton, Zipper closure, Material:100% cotton,...   \n",
              "3  [Denim, Zipper closure, Material: cotton, Styl...   \n",
              "4  [Material: Polycarbonate, Main features: Windp...   \n",
              "\n",
              "                                                 fit  \\\n",
              "0                                                      \n",
              "1                                                      \n",
              "2   class=\"a-normal a-align-center a-spacing-smal...   \n",
              "3   class=\"a-normal a-align-center a-spacing-smal...   \n",
              "4                                                      \n",
              "\n",
              "                                               image  \\\n",
              "0  [https://images-na.ssl-images-amazon.com/image...   \n",
              "1  [https://images-na.ssl-images-amazon.com/image...   \n",
              "2  [https://images-na.ssl-images-amazon.com/image...   \n",
              "3  [https://images-na.ssl-images-amazon.com/image...   \n",
              "4  [https://images-na.ssl-images-amazon.com/image...   \n",
              "\n",
              "                                            main_cat            price  \\\n",
              "0                                        Movies & TV   $9.99 - $12.50   \n",
              "1  <img src=\"https://images-na.ssl-images-amazon....  $16.08 - $18.36   \n",
              "2  <img src=\"https://images-na.ssl-images-amazon....           $26.99   \n",
              "3  <img src=\"https://images-na.ssl-images-amazon....           $38.99   \n",
              "4                                  Sports & Outdoors            $3.29   \n",
              "\n",
              "                                        rank similar_item tech1 tech2  \\\n",
              "0                                         []                            \n",
              "1  14,082,777 in Clothing, Shoes & Jewelry (                            \n",
              "2   2,877,972 in Clothing, Shoes & Jewelry (                            \n",
              "3   1,506,383 in Clothing, Shoes & Jewelry (                            \n",
              "4             936,295 in Sports & Outdoors (                            \n",
              "\n",
              "                                               title  \n",
              "0  Women Blouse, Ninasill Hooded Sweatshirt Coat ...  \n",
              "1  Coolred-Women Retro Split Sexy Skinny Premium ...  \n",
              "2  Gaok Men's Retro Cotton Multi-Pocket Camo Carg...  \n",
              "3  QIBOE Men's Baggy Jeans Denim Sweatpants Loose...  \n",
              "4  Crazy Explosion-proof Lens Polarized Sunglasse...  "
            ],
            "text/html": [
              "\n",
              "\n",
              "  <div id=\"df-aa17ca83-074e-4f44-80c6-f58e28e7230d\">\n",
              "    <div class=\"colab-df-container\">\n",
              "      <div>\n",
              "<style scoped>\n",
              "    .dataframe tbody tr th:only-of-type {\n",
              "        vertical-align: middle;\n",
              "    }\n",
              "\n",
              "    .dataframe tbody tr th {\n",
              "        vertical-align: top;\n",
              "    }\n",
              "\n",
              "    .dataframe thead th {\n",
              "        text-align: right;\n",
              "    }\n",
              "</style>\n",
              "<table border=\"1\" class=\"dataframe\">\n",
              "  <thead>\n",
              "    <tr style=\"text-align: right;\">\n",
              "      <th></th>\n",
              "      <th>also_buy</th>\n",
              "      <th>also_view</th>\n",
              "      <th>asin</th>\n",
              "      <th>brand</th>\n",
              "      <th>category</th>\n",
              "      <th>date</th>\n",
              "      <th>description</th>\n",
              "      <th>details</th>\n",
              "      <th>feature</th>\n",
              "      <th>fit</th>\n",
              "      <th>image</th>\n",
              "      <th>main_cat</th>\n",
              "      <th>price</th>\n",
              "      <th>rank</th>\n",
              "      <th>similar_item</th>\n",
              "      <th>tech1</th>\n",
              "      <th>tech2</th>\n",
              "      <th>title</th>\n",
              "    </tr>\n",
              "  </thead>\n",
              "  <tbody>\n",
              "    <tr>\n",
              "      <th>0</th>\n",
              "      <td>[]</td>\n",
              "      <td>[]</td>\n",
              "      <td>6305121869</td>\n",
              "      <td>Ninasill_Blouse</td>\n",
              "      <td>[Clothing, Shoes &amp; Jewelry, Women, Clothing, T...</td>\n",
              "      <td>&lt;div class=\"a-fixed-left-grid a-spacing-none\"&gt;...</td>\n",
              "      <td>[(=^ ^=) 1.It is made of high quality material...</td>\n",
              "      <td>{}</td>\n",
              "      <td>[Import, Versatile Occasions - Great for Daily...</td>\n",
              "      <td></td>\n",
              "      <td>[https://images-na.ssl-images-amazon.com/image...</td>\n",
              "      <td>Movies &amp; TV</td>\n",
              "      <td>$9.99 - $12.50</td>\n",
              "      <td>[]</td>\n",
              "      <td></td>\n",
              "      <td></td>\n",
              "      <td></td>\n",
              "      <td>Women Blouse, Ninasill Hooded Sweatshirt Coat ...</td>\n",
              "    </tr>\n",
              "    <tr>\n",
              "      <th>1</th>\n",
              "      <td>[]</td>\n",
              "      <td>[]</td>\n",
              "      <td>6318708057</td>\n",
              "      <td>Coolred-Women</td>\n",
              "      <td>[Clothing, Shoes &amp; Jewelry, Traditional &amp; Cult...</td>\n",
              "      <td>&lt;div class=\"a-fixed-left-grid a-spacing-none\"&gt;...</td>\n",
              "      <td>[&lt;b&gt;&lt;br&gt;Hi friend, welcome to our store. Befor...</td>\n",
              "      <td>{}</td>\n",
              "      <td>[100% Spandex, Order Larger If You are Between...</td>\n",
              "      <td></td>\n",
              "      <td>[https://images-na.ssl-images-amazon.com/image...</td>\n",
              "      <td>&lt;img src=\"https://images-na.ssl-images-amazon....</td>\n",
              "      <td>$16.08 - $18.36</td>\n",
              "      <td>14,082,777 in Clothing, Shoes &amp; Jewelry (</td>\n",
              "      <td></td>\n",
              "      <td></td>\n",
              "      <td></td>\n",
              "      <td>Coolred-Women Retro Split Sexy Skinny Premium ...</td>\n",
              "    </tr>\n",
              "    <tr>\n",
              "      <th>2</th>\n",
              "      <td>[]</td>\n",
              "      <td>[B07CRJ95M7, B008AHISU4, B07B8F98W2, B07DD98Q7...</td>\n",
              "      <td>6342506256</td>\n",
              "      <td>Gaok</td>\n",
              "      <td>[Clothing, Shoes &amp; Jewelry, Men, Clothing, Sho...</td>\n",
              "      <td>&lt;div class=\"a-fixed-left-grid a-spacing-none\"&gt;...</td>\n",
              "      <td>[Gaok men's pants are all made from cotton mat...</td>\n",
              "      <td>{}</td>\n",
              "      <td>[Cotton, Zipper closure, Material:100% cotton,...</td>\n",
              "      <td>class=\"a-normal a-align-center a-spacing-smal...</td>\n",
              "      <td>[https://images-na.ssl-images-amazon.com/image...</td>\n",
              "      <td>&lt;img src=\"https://images-na.ssl-images-amazon....</td>\n",
              "      <td>$26.99</td>\n",
              "      <td>2,877,972 in Clothing, Shoes &amp; Jewelry (</td>\n",
              "      <td></td>\n",
              "      <td></td>\n",
              "      <td></td>\n",
              "      <td>Gaok Men's Retro Cotton Multi-Pocket Camo Carg...</td>\n",
              "    </tr>\n",
              "    <tr>\n",
              "      <th>3</th>\n",
              "      <td>[B077GQQKRV, B07CBJQTF6, B07H2Z6S9J, B06Y26PZ5...</td>\n",
              "      <td>[B07H2Z6S9J, B077GQQKRV, B072XTTTK9, B002DMJOC...</td>\n",
              "      <td>6342509379</td>\n",
              "      <td>QIBOE</td>\n",
              "      <td>[Clothing, Shoes &amp; Jewelry, Men, Clothing, Jea...</td>\n",
              "      <td>&lt;div class=\"a-fixed-left-grid a-spacing-none\"&gt;...</td>\n",
              "      <td>[&lt;b&gt;pant size(Unit:inch)&lt;/b&gt;&lt;br&gt; W30(tag30) Wa...</td>\n",
              "      <td>{}</td>\n",
              "      <td>[Denim, Zipper closure, Material: cotton, Styl...</td>\n",
              "      <td>class=\"a-normal a-align-center a-spacing-smal...</td>\n",
              "      <td>[https://images-na.ssl-images-amazon.com/image...</td>\n",
              "      <td>&lt;img src=\"https://images-na.ssl-images-amazon....</td>\n",
              "      <td>$38.99</td>\n",
              "      <td>1,506,383 in Clothing, Shoes &amp; Jewelry (</td>\n",
              "      <td></td>\n",
              "      <td></td>\n",
              "      <td></td>\n",
              "      <td>QIBOE Men's Baggy Jeans Denim Sweatpants Loose...</td>\n",
              "    </tr>\n",
              "    <tr>\n",
              "      <th>4</th>\n",
              "      <td>[]</td>\n",
              "      <td>[B00V6F372G]</td>\n",
              "      <td>6342522081</td>\n",
              "      <td>OLO</td>\n",
              "      <td>[Clothing, Shoes &amp; Jewelry, Women, Accessories...</td>\n",
              "      <td></td>\n",
              "      <td>[All of our sunglasses offer protection agains...</td>\n",
              "      <td>{'ASIN: ': '6342522081'}</td>\n",
              "      <td>[Material: Polycarbonate, Main features: Windp...</td>\n",
              "      <td></td>\n",
              "      <td>[https://images-na.ssl-images-amazon.com/image...</td>\n",
              "      <td>Sports &amp; Outdoors</td>\n",
              "      <td>$3.29</td>\n",
              "      <td>936,295 in Sports &amp; Outdoors (</td>\n",
              "      <td></td>\n",
              "      <td></td>\n",
              "      <td></td>\n",
              "      <td>Crazy Explosion-proof Lens Polarized Sunglasse...</td>\n",
              "    </tr>\n",
              "  </tbody>\n",
              "</table>\n",
              "</div>\n",
              "      <button class=\"colab-df-convert\" onclick=\"convertToInteractive('df-aa17ca83-074e-4f44-80c6-f58e28e7230d')\"\n",
              "              title=\"Convert this dataframe to an interactive table.\"\n",
              "              style=\"display:none;\">\n",
              "\n",
              "  <svg xmlns=\"http://www.w3.org/2000/svg\" height=\"24px\"viewBox=\"0 0 24 24\"\n",
              "       width=\"24px\">\n",
              "    <path d=\"M0 0h24v24H0V0z\" fill=\"none\"/>\n",
              "    <path d=\"M18.56 5.44l.94 2.06.94-2.06 2.06-.94-2.06-.94-.94-2.06-.94 2.06-2.06.94zm-11 1L8.5 8.5l.94-2.06 2.06-.94-2.06-.94L8.5 2.5l-.94 2.06-2.06.94zm10 10l.94 2.06.94-2.06 2.06-.94-2.06-.94-.94-2.06-.94 2.06-2.06.94z\"/><path d=\"M17.41 7.96l-1.37-1.37c-.4-.4-.92-.59-1.43-.59-.52 0-1.04.2-1.43.59L10.3 9.45l-7.72 7.72c-.78.78-.78 2.05 0 2.83L4 21.41c.39.39.9.59 1.41.59.51 0 1.02-.2 1.41-.59l7.78-7.78 2.81-2.81c.8-.78.8-2.07 0-2.86zM5.41 20L4 18.59l7.72-7.72 1.47 1.35L5.41 20z\"/>\n",
              "  </svg>\n",
              "      </button>\n",
              "\n",
              "\n",
              "\n",
              "    <div id=\"df-0b49afb8-d516-4ea5-b904-ced7c17e8dc8\">\n",
              "      <button class=\"colab-df-quickchart\" onclick=\"quickchart('df-0b49afb8-d516-4ea5-b904-ced7c17e8dc8')\"\n",
              "              title=\"Suggest charts.\"\n",
              "              style=\"display:none;\">\n",
              "\n",
              "<svg xmlns=\"http://www.w3.org/2000/svg\" height=\"24px\"viewBox=\"0 0 24 24\"\n",
              "     width=\"24px\">\n",
              "    <g>\n",
              "        <path d=\"M19 3H5c-1.1 0-2 .9-2 2v14c0 1.1.9 2 2 2h14c1.1 0 2-.9 2-2V5c0-1.1-.9-2-2-2zM9 17H7v-7h2v7zm4 0h-2V7h2v10zm4 0h-2v-4h2v4z\"/>\n",
              "    </g>\n",
              "</svg>\n",
              "      </button>\n",
              "    </div>\n",
              "\n",
              "<style>\n",
              "  .colab-df-quickchart {\n",
              "    background-color: #E8F0FE;\n",
              "    border: none;\n",
              "    border-radius: 50%;\n",
              "    cursor: pointer;\n",
              "    display: none;\n",
              "    fill: #1967D2;\n",
              "    height: 32px;\n",
              "    padding: 0 0 0 0;\n",
              "    width: 32px;\n",
              "  }\n",
              "\n",
              "  .colab-df-quickchart:hover {\n",
              "    background-color: #E2EBFA;\n",
              "    box-shadow: 0px 1px 2px rgba(60, 64, 67, 0.3), 0px 1px 3px 1px rgba(60, 64, 67, 0.15);\n",
              "    fill: #174EA6;\n",
              "  }\n",
              "\n",
              "  [theme=dark] .colab-df-quickchart {\n",
              "    background-color: #3B4455;\n",
              "    fill: #D2E3FC;\n",
              "  }\n",
              "\n",
              "  [theme=dark] .colab-df-quickchart:hover {\n",
              "    background-color: #434B5C;\n",
              "    box-shadow: 0px 1px 3px 1px rgba(0, 0, 0, 0.15);\n",
              "    filter: drop-shadow(0px 1px 2px rgba(0, 0, 0, 0.3));\n",
              "    fill: #FFFFFF;\n",
              "  }\n",
              "</style>\n",
              "\n",
              "    <script>\n",
              "      async function quickchart(key) {\n",
              "        const containerElement = document.querySelector('#' + key);\n",
              "        const charts = await google.colab.kernel.invokeFunction(\n",
              "            'suggestCharts', [key], {});\n",
              "      }\n",
              "    </script>\n",
              "\n",
              "      <script>\n",
              "\n",
              "function displayQuickchartButton(domScope) {\n",
              "  let quickchartButtonEl =\n",
              "    domScope.querySelector('#df-0b49afb8-d516-4ea5-b904-ced7c17e8dc8 button.colab-df-quickchart');\n",
              "  quickchartButtonEl.style.display =\n",
              "    google.colab.kernel.accessAllowed ? 'block' : 'none';\n",
              "}\n",
              "\n",
              "        displayQuickchartButton(document);\n",
              "      </script>\n",
              "      <style>\n",
              "    .colab-df-container {\n",
              "      display:flex;\n",
              "      flex-wrap:wrap;\n",
              "      gap: 12px;\n",
              "    }\n",
              "\n",
              "    .colab-df-convert {\n",
              "      background-color: #E8F0FE;\n",
              "      border: none;\n",
              "      border-radius: 50%;\n",
              "      cursor: pointer;\n",
              "      display: none;\n",
              "      fill: #1967D2;\n",
              "      height: 32px;\n",
              "      padding: 0 0 0 0;\n",
              "      width: 32px;\n",
              "    }\n",
              "\n",
              "    .colab-df-convert:hover {\n",
              "      background-color: #E2EBFA;\n",
              "      box-shadow: 0px 1px 2px rgba(60, 64, 67, 0.3), 0px 1px 3px 1px rgba(60, 64, 67, 0.15);\n",
              "      fill: #174EA6;\n",
              "    }\n",
              "\n",
              "    [theme=dark] .colab-df-convert {\n",
              "      background-color: #3B4455;\n",
              "      fill: #D2E3FC;\n",
              "    }\n",
              "\n",
              "    [theme=dark] .colab-df-convert:hover {\n",
              "      background-color: #434B5C;\n",
              "      box-shadow: 0px 1px 3px 1px rgba(0, 0, 0, 0.15);\n",
              "      filter: drop-shadow(0px 1px 2px rgba(0, 0, 0, 0.3));\n",
              "      fill: #FFFFFF;\n",
              "    }\n",
              "  </style>\n",
              "\n",
              "      <script>\n",
              "        const buttonEl =\n",
              "          document.querySelector('#df-aa17ca83-074e-4f44-80c6-f58e28e7230d button.colab-df-convert');\n",
              "        buttonEl.style.display =\n",
              "          google.colab.kernel.accessAllowed ? 'block' : 'none';\n",
              "\n",
              "        async function convertToInteractive(key) {\n",
              "          const element = document.querySelector('#df-aa17ca83-074e-4f44-80c6-f58e28e7230d');\n",
              "          const dataTable =\n",
              "            await google.colab.kernel.invokeFunction('convertToInteractive',\n",
              "                                                     [key], {});\n",
              "          if (!dataTable) return;\n",
              "\n",
              "          const docLinkHtml = 'Like what you see? Visit the ' +\n",
              "            '<a target=\"_blank\" href=https://colab.research.google.com/notebooks/data_table.ipynb>data table notebook</a>'\n",
              "            + ' to learn more about interactive tables.';\n",
              "          element.innerHTML = '';\n",
              "          dataTable['output_type'] = 'display_data';\n",
              "          await google.colab.output.renderOutput(dataTable, element);\n",
              "          const docLink = document.createElement('div');\n",
              "          docLink.innerHTML = docLinkHtml;\n",
              "          element.appendChild(docLink);\n",
              "        }\n",
              "      </script>\n",
              "    </div>\n",
              "  </div>\n"
            ]
          },
          "metadata": {},
          "execution_count": 7
        }
      ]
    },
    {
      "cell_type": "code",
      "source": [
        "df[\"title\"][0]"
      ],
      "metadata": {
        "id": "rYBgdr-MD75f",
        "outputId": "ed5b3e0b-759f-4608-bbc5-e952c5cf5f50",
        "colab": {
          "base_uri": "https://localhost:8080/",
          "height": 35
        }
      },
      "execution_count": 9,
      "outputs": [
        {
          "output_type": "execute_result",
          "data": {
            "text/plain": [
              "'Women Blouse, Ninasill Hooded Sweatshirt Coat Winter Warm Wool Zipper Pockets Cotton Coat Outwear'"
            ],
            "application/vnd.google.colaboratory.intrinsic+json": {
              "type": "string"
            }
          },
          "metadata": {},
          "execution_count": 9
        }
      ]
    }
  ]
}